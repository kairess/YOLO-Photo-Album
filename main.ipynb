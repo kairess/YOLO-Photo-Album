{
 "cells": [
  {
   "cell_type": "markdown",
   "metadata": {},
   "source": [
    "# YOLOv5\n",
    "- https://github.com/ultralytics/yolov5"
   ]
  },
  {
   "cell_type": "markdown",
   "metadata": {},
   "source": [
    "## Load Model"
   ]
  },
  {
   "cell_type": "code",
   "execution_count": 10,
   "metadata": {},
   "outputs": [
    {
     "name": "stderr",
     "output_type": "stream",
     "text": [
      "Using cache found in /Users/brad/.cache/torch/hub/ultralytics_yolov5_master\n",
      "Fusing layers... \n",
      "Model Summary: 224 layers, 7266973 parameters, 0 gradients\n",
      "Adding AutoShape... \n",
      "YOLOv5 🚀 2021-6-23 torch 1.9.0 CPU\n",
      "\n"
     ]
    }
   ],
   "source": [
    "import torch\n",
    "\n",
    "model = torch.hub.load('ultralytics/yolov5', 'yolov5s')"
   ]
  },
  {
   "cell_type": "markdown",
   "metadata": {},
   "source": [
    "## Test Inference"
   ]
  },
  {
   "cell_type": "code",
   "execution_count": 11,
   "metadata": {},
   "outputs": [
    {
     "name": "stdout",
     "output_type": "stream",
     "text": [
      "image 1/1: 959x640 1 person, 1 chair, 1 dining table, 1 laptop\n",
      "Speed: 23.4ms pre-process, 236.5ms inference, 1.5ms NMS per image at shape (1, 3, 640, 448)\n"
     ]
    }
   ],
   "source": [
    "# img = 'https://ultralytics.com/images/zidane.jpg'\n",
    "img_path = 'static/photos/67.jpg'\n",
    "\n",
    "results = model(img_path)\n",
    "\n",
    "results.print()"
   ]
  },
  {
   "cell_type": "markdown",
   "metadata": {},
   "source": [
    "## Show Result Image"
   ]
  },
  {
   "cell_type": "code",
   "execution_count": 12,
   "metadata": {},
   "outputs": [],
   "source": [
    "results.show()"
   ]
  },
  {
   "cell_type": "markdown",
   "metadata": {},
   "source": [
    "## Raw Prediction Result"
   ]
  },
  {
   "cell_type": "code",
   "execution_count": 13,
   "metadata": {},
   "outputs": [
    {
     "data": {
      "text/plain": [
       "[tensor([[1.70234e+00, 5.10571e+02, 3.63277e+02, 7.90127e+02, 8.41733e-01, 6.30000e+01],\n",
       "         [2.18034e+02, 2.77226e+02, 5.90177e+02, 7.52857e+02, 6.89628e-01, 0.00000e+00],\n",
       "         [5.60648e+02, 5.24505e+02, 6.36366e+02, 7.35436e+02, 4.31692e-01, 5.60000e+01],\n",
       "         [0.00000e+00, 7.16503e+02, 6.32980e+02, 9.57661e+02, 4.22925e-01, 6.00000e+01]])]"
      ]
     },
     "execution_count": 13,
     "metadata": {},
     "output_type": "execute_result"
    }
   ],
   "source": [
    "results.pred"
   ]
  },
  {
   "cell_type": "markdown",
   "metadata": {},
   "source": [
    "## Label Names"
   ]
  },
  {
   "cell_type": "code",
   "execution_count": 14,
   "metadata": {},
   "outputs": [
    {
     "data": {
      "text/plain": [
       "['person',\n",
       " 'bicycle',\n",
       " 'car',\n",
       " 'motorcycle',\n",
       " 'airplane',\n",
       " 'bus',\n",
       " 'train',\n",
       " 'truck',\n",
       " 'boat',\n",
       " 'traffic light',\n",
       " 'fire hydrant',\n",
       " 'stop sign',\n",
       " 'parking meter',\n",
       " 'bench',\n",
       " 'bird',\n",
       " 'cat',\n",
       " 'dog',\n",
       " 'horse',\n",
       " 'sheep',\n",
       " 'cow',\n",
       " 'elephant',\n",
       " 'bear',\n",
       " 'zebra',\n",
       " 'giraffe',\n",
       " 'backpack',\n",
       " 'umbrella',\n",
       " 'handbag',\n",
       " 'tie',\n",
       " 'suitcase',\n",
       " 'frisbee',\n",
       " 'skis',\n",
       " 'snowboard',\n",
       " 'sports ball',\n",
       " 'kite',\n",
       " 'baseball bat',\n",
       " 'baseball glove',\n",
       " 'skateboard',\n",
       " 'surfboard',\n",
       " 'tennis racket',\n",
       " 'bottle',\n",
       " 'wine glass',\n",
       " 'cup',\n",
       " 'fork',\n",
       " 'knife',\n",
       " 'spoon',\n",
       " 'bowl',\n",
       " 'banana',\n",
       " 'apple',\n",
       " 'sandwich',\n",
       " 'orange',\n",
       " 'broccoli',\n",
       " 'carrot',\n",
       " 'hot dog',\n",
       " 'pizza',\n",
       " 'donut',\n",
       " 'cake',\n",
       " 'chair',\n",
       " 'couch',\n",
       " 'potted plant',\n",
       " 'bed',\n",
       " 'dining table',\n",
       " 'toilet',\n",
       " 'tv',\n",
       " 'laptop',\n",
       " 'mouse',\n",
       " 'remote',\n",
       " 'keyboard',\n",
       " 'cell phone',\n",
       " 'microwave',\n",
       " 'oven',\n",
       " 'toaster',\n",
       " 'sink',\n",
       " 'refrigerator',\n",
       " 'book',\n",
       " 'clock',\n",
       " 'vase',\n",
       " 'scissors',\n",
       " 'teddy bear',\n",
       " 'hair drier',\n",
       " 'toothbrush']"
      ]
     },
     "execution_count": 14,
     "metadata": {},
     "output_type": "execute_result"
    }
   ],
   "source": [
    "results.names"
   ]
  },
  {
   "cell_type": "markdown",
   "metadata": {},
   "source": [
    "## Prediction from Raw Result"
   ]
  },
  {
   "cell_type": "code",
   "execution_count": 15,
   "metadata": {},
   "outputs": [
    {
     "data": {
      "text/plain": [
       "'laptop'"
      ]
     },
     "execution_count": 15,
     "metadata": {},
     "output_type": "execute_result"
    }
   ],
   "source": [
    "results.names[int(results.pred[0][0][-1])]"
   ]
  },
  {
   "cell_type": "code",
   "execution_count": 18,
   "metadata": {},
   "outputs": [
    {
     "data": {
      "text/plain": [
       "['사람',\n",
       " '자전거',\n",
       " '자동차',\n",
       " '바이크',\n",
       " '비행기',\n",
       " '버스',\n",
       " '기차',\n",
       " '트럭',\n",
       " '보트',\n",
       " '신호등',\n",
       " '소화전',\n",
       " '정지신호',\n",
       " '주차요금징수기',\n",
       " '벤치',\n",
       " '새',\n",
       " '고양이',\n",
       " '강아지',\n",
       " '말',\n",
       " '양',\n",
       " '소',\n",
       " '코끼리',\n",
       " '곰',\n",
       " '얼룩말',\n",
       " '기린',\n",
       " '백팩',\n",
       " '우산',\n",
       " '핸드백',\n",
       " '넥타이',\n",
       " '여행가방',\n",
       " '프리스비',\n",
       " '스키',\n",
       " '스노보드',\n",
       " '공',\n",
       " '연',\n",
       " '야구공',\n",
       " '야구글러브',\n",
       " '스케이트보드',\n",
       " '서핑보드',\n",
       " '테니스라켓',\n",
       " '병',\n",
       " '와인잔',\n",
       " '컵',\n",
       " '포크',\n",
       " '나이프',\n",
       " '숟가락',\n",
       " '그릇',\n",
       " '바나나',\n",
       " '사과',\n",
       " '샌드위치',\n",
       " '오렌지',\n",
       " '브로콜리',\n",
       " '당근',\n",
       " '핫도그',\n",
       " '피자',\n",
       " '도넛',\n",
       " '케이크',\n",
       " '의자',\n",
       " '소파',\n",
       " '식물',\n",
       " '침대',\n",
       " '테이블',\n",
       " '화장실',\n",
       " '테레비',\n",
       " '노트북',\n",
       " '마우스',\n",
       " '리모콘',\n",
       " '키보드',\n",
       " '휴대폰',\n",
       " '전자렌지',\n",
       " '오븐',\n",
       " '토스터',\n",
       " '싱크대',\n",
       " '냉장고',\n",
       " '책',\n",
       " '시계',\n",
       " '꽃병',\n",
       " '가위',\n",
       " '테디베어',\n",
       " '헤어드라이기',\n",
       " '칫솔']"
      ]
     },
     "execution_count": 18,
     "metadata": {},
     "output_type": "execute_result"
    }
   ],
   "source": [
    "import json\n",
    "\n",
    "with open('tags_ko.json') as f:\n",
    "    tags_ko = json.load(f)\n",
    "    \n",
    "tags_ko"
   ]
  },
  {
   "cell_type": "markdown",
   "metadata": {},
   "source": [
    "## Predict Bulk and Create Database"
   ]
  },
  {
   "cell_type": "code",
   "execution_count": 21,
   "metadata": {},
   "outputs": [
    {
     "data": {
      "text/plain": [
       "{'static/photos/63.jpg': ['diningtable',\n",
       "  'bottle',\n",
       "  'bowl',\n",
       "  'chair',\n",
       "  'person',\n",
       "  'laptop',\n",
       "  'cup'],\n",
       " 'static/photos/62.jpg': ['diningtable', 'laptop', 'cake', 'person'],\n",
       " 'static/photos/60.jpg': ['dog', 'diningtable', 'sportsball'],\n",
       " 'static/photos/48.jpg': ['cup', 'knife', 'wineglass', 'fork'],\n",
       " 'static/photos/49.jpg': ['wineglass', 'person'],\n",
       " 'static/photos/61.jpg': ['wineglass', 'cake', 'person'],\n",
       " 'static/photos/59.jpg': ['diningtable', 'cake', 'person'],\n",
       " 'static/photos/65.jpg': ['book',\n",
       "  'person',\n",
       "  'bottle',\n",
       "  'cake',\n",
       "  'chair',\n",
       "  'tv',\n",
       "  'laptop',\n",
       "  'pottedplant',\n",
       "  'cup'],\n",
       " 'static/photos/64.jpg': ['person', 'cup', 'laptop'],\n",
       " 'static/photos/58.jpg': ['hotdog'],\n",
       " 'static/photos/66.jpg': ['bed', 'person', 'pottedplant', 'laptop'],\n",
       " 'static/photos/67.jpg': ['person', 'chair', 'diningtable', 'laptop'],\n",
       " 'static/photos/14.jpg': ['person'],\n",
       " 'static/photos/28.jpg': ['bird'],\n",
       " 'static/photos/29.jpg': ['bird'],\n",
       " 'static/photos/15.jpg': ['car', 'person'],\n",
       " 'static/photos/01.jpg': ['person'],\n",
       " 'static/photos/17.jpg': ['motorcycle', 'person'],\n",
       " 'static/photos/03.jpg': ['bench', 'umbrella', 'person'],\n",
       " 'static/photos/02.jpg': ['person'],\n",
       " 'static/photos/16.jpg': ['motorcycle', 'person'],\n",
       " 'static/photos/12.jpg': ['person'],\n",
       " 'static/photos/06.jpg': ['bicycle', 'cellphone', 'cup', 'person'],\n",
       " 'static/photos/07.jpg': ['bicycle', 'person'],\n",
       " 'static/photos/13.jpg': ['bench', 'motorcycle'],\n",
       " 'static/photos/39.jpg': ['snowboard', 'person'],\n",
       " 'static/photos/05.jpg': ['bicycle', 'person'],\n",
       " 'static/photos/11.jpg': ['car', 'person'],\n",
       " 'static/photos/10.jpg': ['person'],\n",
       " 'static/photos/04.jpg': [],\n",
       " 'static/photos/38.jpg': ['skis', 'person'],\n",
       " 'static/photos/21.jpg': ['bus', 'person'],\n",
       " 'static/photos/35.jpg': ['giraffe'],\n",
       " 'static/photos/09.jpg': ['car'],\n",
       " 'static/photos/08.jpg': ['bicycle', 'person'],\n",
       " 'static/photos/34.jpg': ['zebra'],\n",
       " 'static/photos/20.jpg': ['airplane'],\n",
       " 'static/photos/36.jpg': ['snowboard', 'person'],\n",
       " 'static/photos/22.jpg': ['person'],\n",
       " 'static/photos/23.jpg': ['bus', 'suitcase', 'person'],\n",
       " 'static/photos/37.jpg': ['skis', 'person'],\n",
       " 'static/photos/33.jpg': ['cat'],\n",
       " 'static/photos/27.jpg': ['bird'],\n",
       " 'static/photos/26.jpg': ['backpack', 'person'],\n",
       " 'static/photos/32.jpg': ['cat'],\n",
       " 'static/photos/18.jpg': ['person', 'motorcycle'],\n",
       " 'static/photos/24.jpg': ['handbag', 'train', 'person'],\n",
       " 'static/photos/30.jpg': ['cat'],\n",
       " 'static/photos/31.jpg': ['cat'],\n",
       " 'static/photos/25.jpg': ['train'],\n",
       " 'static/photos/19.jpg': ['airplane'],\n",
       " 'static/photos/42.jpg': ['kite', 'person'],\n",
       " 'static/photos/56.jpg': ['diningtable',\n",
       "  'person',\n",
       "  'bottle',\n",
       "  'pizza',\n",
       "  'laptop'],\n",
       " 'static/photos/57.jpg': ['knife', 'cake', 'vase', 'person'],\n",
       " 'static/photos/43.jpg': ['kite', 'person'],\n",
       " 'static/photos/55.jpg': ['pizza', 'handbag', 'cup', 'person'],\n",
       " 'static/photos/41.jpg': ['kite', 'person'],\n",
       " 'static/photos/40.jpg': ['kite', 'person'],\n",
       " 'static/photos/54.jpg': ['pizza', 'umbrella', 'person'],\n",
       " 'static/photos/50.jpg': ['diningtable',\n",
       "  'orange',\n",
       "  'wineglass',\n",
       "  'bottle',\n",
       "  'person',\n",
       "  'cup'],\n",
       " 'static/photos/44.jpg': ['surfboard', 'person'],\n",
       " 'static/photos/45.jpg': ['surfboard', 'person'],\n",
       " 'static/photos/51.jpg': ['orange',\n",
       "  'sandwich',\n",
       "  'bottle',\n",
       "  'bowl',\n",
       "  'wineglass',\n",
       "  'knife',\n",
       "  'person',\n",
       "  'apple',\n",
       "  'pottedplant',\n",
       "  'cup'],\n",
       " 'static/photos/47.jpg': ['surfboard', 'person'],\n",
       " 'static/photos/53.jpg': ['pizza', 'cellphone', 'person'],\n",
       " 'static/photos/52.jpg': ['pizza'],\n",
       " 'static/photos/46.jpg': ['surfboard', 'person']}"
      ]
     },
     "execution_count": 21,
     "metadata": {},
     "output_type": "execute_result"
    }
   ],
   "source": [
    "from glob import glob\n",
    "\n",
    "img_list = glob('static/photos/*.jpg')\n",
    "\n",
    "db = {}\n",
    "\n",
    "for img_path in img_list:\n",
    "    results = model(img_path)\n",
    "    \n",
    "    tags = set()\n",
    "\n",
    "    for pred in results.pred[0]:\n",
    "        tag = results.names[int(pred[-1])] # English\n",
    "#         tag = tags_ko[int(pred[-1])] # Korean\n",
    "        tag = tag.replace(' ', '')\n",
    "        tags.add(tag)\n",
    "        \n",
    "    db[img_path] = list(tags)\n",
    "\n",
    "db"
   ]
  },
  {
   "cell_type": "markdown",
   "metadata": {},
   "source": [
    "## Create the Album"
   ]
  },
  {
   "cell_type": "code",
   "execution_count": null,
   "metadata": {},
   "outputs": [
    {
     "name": "stdout",
     "output_type": "stream",
     "text": [
      " * Serving Flask app '__main__' (lazy loading)\n",
      " * Environment: production\n",
      "\u001b[31m   WARNING: This is a development server. Do not use it in a production deployment.\u001b[0m\n",
      "\u001b[2m   Use a production WSGI server instead.\u001b[0m\n",
      " * Debug mode: off\n"
     ]
    },
    {
     "name": "stderr",
     "output_type": "stream",
     "text": [
      " * Running on http://127.0.0.1:5000/ (Press CTRL+C to quit)\n",
      "127.0.0.1 - - [24/Jun/2021 15:25:53] \"GET / HTTP/1.1\" 200 -\n",
      "127.0.0.1 - - [24/Jun/2021 15:25:53] \"\u001b[36mGET /static/photos/63.jpg HTTP/1.1\u001b[0m\" 304 -\n",
      "127.0.0.1 - - [24/Jun/2021 15:25:53] \"\u001b[36mGET /static/photos/62.jpg HTTP/1.1\u001b[0m\" 304 -\n",
      "127.0.0.1 - - [24/Jun/2021 15:25:53] \"\u001b[36mGET /static/photos/60.jpg HTTP/1.1\u001b[0m\" 304 -\n",
      "127.0.0.1 - - [24/Jun/2021 15:25:53] \"\u001b[36mGET /static/photos/48.jpg HTTP/1.1\u001b[0m\" 304 -\n",
      "127.0.0.1 - - [24/Jun/2021 15:25:53] \"\u001b[36mGET /static/photos/49.jpg HTTP/1.1\u001b[0m\" 304 -\n",
      "127.0.0.1 - - [24/Jun/2021 15:25:53] \"\u001b[36mGET /static/photos/61.jpg HTTP/1.1\u001b[0m\" 304 -\n",
      "127.0.0.1 - - [24/Jun/2021 15:25:53] \"\u001b[36mGET /static/photos/65.jpg HTTP/1.1\u001b[0m\" 304 -\n",
      "127.0.0.1 - - [24/Jun/2021 15:25:53] \"\u001b[36mGET /static/photos/59.jpg HTTP/1.1\u001b[0m\" 304 -\n",
      "127.0.0.1 - - [24/Jun/2021 15:25:53] \"\u001b[36mGET /static/photos/64.jpg HTTP/1.1\u001b[0m\" 304 -\n",
      "127.0.0.1 - - [24/Jun/2021 15:25:53] \"\u001b[36mGET /static/photos/58.jpg HTTP/1.1\u001b[0m\" 304 -\n",
      "127.0.0.1 - - [24/Jun/2021 15:25:53] \"\u001b[36mGET /static/photos/50.jpg HTTP/1.1\u001b[0m\" 304 -\n",
      "127.0.0.1 - - [24/Jun/2021 15:25:53] \"\u001b[36mGET /static/photos/56.jpg HTTP/1.1\u001b[0m\" 304 -\n",
      "127.0.0.1 - - [24/Jun/2021 15:25:53] \"\u001b[36mGET /static/photos/05.jpg HTTP/1.1\u001b[0m\" 304 -\n",
      "127.0.0.1 - - [24/Jun/2021 15:25:53] \"\u001b[36mGET /static/photos/28.jpg HTTP/1.1\u001b[0m\" 304 -\n",
      "127.0.0.1 - - [24/Jun/2021 15:25:53] \"\u001b[36mGET /static/photos/15.jpg HTTP/1.1\u001b[0m\" 304 -\n",
      "127.0.0.1 - - [24/Jun/2021 15:25:53] \"\u001b[36mGET /static/photos/30.jpg HTTP/1.1\u001b[0m\" 304 -\n",
      "127.0.0.1 - - [24/Jun/2021 15:25:53] \"\u001b[36mGET /static/photos/10.jpg HTTP/1.1\u001b[0m\" 304 -\n",
      "127.0.0.1 - - [24/Jun/2021 15:25:53] \"\u001b[36mGET /static/photos/36.jpg HTTP/1.1\u001b[0m\" 304 -\n",
      "127.0.0.1 - - [24/Jun/2021 15:25:53] \"\u001b[36mGET /static/photos/37.jpg HTTP/1.1\u001b[0m\" 304 -\n",
      "127.0.0.1 - - [24/Jun/2021 15:25:53] \"\u001b[36mGET /static/photos/20.jpg HTTP/1.1\u001b[0m\" 304 -\n",
      "127.0.0.1 - - [24/Jun/2021 15:25:53] \"\u001b[36mGET /static/photos/43.jpg HTTP/1.1\u001b[0m\" 304 -\n",
      "127.0.0.1 - - [24/Jun/2021 15:25:53] \"\u001b[36mGET /static/photos/52.jpg HTTP/1.1\u001b[0m\" 304 -\n",
      "127.0.0.1 - - [24/Jun/2021 15:25:53] \"\u001b[36mGET /static/photos/21.jpg HTTP/1.1\u001b[0m\" 304 -\n",
      "127.0.0.1 - - [24/Jun/2021 15:25:53] \"\u001b[36mGET /static/photos/29.jpg HTTP/1.1\u001b[0m\" 304 -\n",
      "127.0.0.1 - - [24/Jun/2021 15:25:53] \"\u001b[36mGET /static/photos/09.jpg HTTP/1.1\u001b[0m\" 304 -\n",
      "127.0.0.1 - - [24/Jun/2021 15:25:53] \"\u001b[36mGET /static/photos/31.jpg HTTP/1.1\u001b[0m\" 304 -\n",
      "127.0.0.1 - - [24/Jun/2021 15:25:53] \"\u001b[36mGET /static/photos/45.jpg HTTP/1.1\u001b[0m\" 304 -\n",
      "127.0.0.1 - - [24/Jun/2021 15:25:53] \"\u001b[36mGET /static/photos/55.jpg HTTP/1.1\u001b[0m\" 304 -\n",
      "127.0.0.1 - - [24/Jun/2021 15:25:53] \"\u001b[36mGET /static/photos/08.jpg HTTP/1.1\u001b[0m\" 304 -\n",
      "127.0.0.1 - - [24/Jun/2021 15:25:53] \"\u001b[36mGET /static/photos/54.jpg HTTP/1.1\u001b[0m\" 304 -\n",
      "127.0.0.1 - - [24/Jun/2021 15:25:53] \"\u001b[36mGET /static/photos/26.jpg HTTP/1.1\u001b[0m\" 304 -\n",
      "127.0.0.1 - - [24/Jun/2021 15:25:53] \"\u001b[36mGET /static/photos/24.jpg HTTP/1.1\u001b[0m\" 304 -\n",
      "127.0.0.1 - - [24/Jun/2021 15:25:53] \"\u001b[36mGET /static/photos/66.jpg HTTP/1.1\u001b[0m\" 304 -\n",
      "127.0.0.1 - - [24/Jun/2021 15:25:53] \"\u001b[36mGET /static/photos/01.jpg HTTP/1.1\u001b[0m\" 304 -\n",
      "127.0.0.1 - - [24/Jun/2021 15:25:53] \"\u001b[36mGET /static/photos/18.jpg HTTP/1.1\u001b[0m\" 304 -\n",
      "127.0.0.1 - - [24/Jun/2021 15:25:53] \"\u001b[36mGET /static/photos/40.jpg HTTP/1.1\u001b[0m\" 304 -\n",
      "127.0.0.1 - - [24/Jun/2021 15:25:53] \"\u001b[36mGET /static/photos/13.jpg HTTP/1.1\u001b[0m\" 304 -\n",
      "127.0.0.1 - - [24/Jun/2021 15:25:53] \"\u001b[36mGET /static/photos/33.jpg HTTP/1.1\u001b[0m\" 304 -\n",
      "127.0.0.1 - - [24/Jun/2021 15:25:53] \"\u001b[36mGET /static/photos/06.jpg HTTP/1.1\u001b[0m\" 304 -\n",
      "127.0.0.1 - - [24/Jun/2021 15:25:53] \"\u001b[36mGET /static/photos/57.jpg HTTP/1.1\u001b[0m\" 304 -\n",
      "127.0.0.1 - - [24/Jun/2021 15:25:53] \"\u001b[36mGET /static/photos/34.jpg HTTP/1.1\u001b[0m\" 304 -\n",
      "127.0.0.1 - - [24/Jun/2021 15:25:53] \"\u001b[36mGET /static/photos/41.jpg HTTP/1.1\u001b[0m\" 304 -\n",
      "127.0.0.1 - - [24/Jun/2021 15:25:53] \"\u001b[36mGET /static/photos/23.jpg HTTP/1.1\u001b[0m\" 304 -\n",
      "127.0.0.1 - - [24/Jun/2021 15:25:53] \"\u001b[36mGET /static/photos/22.jpg HTTP/1.1\u001b[0m\" 304 -\n",
      "127.0.0.1 - - [24/Jun/2021 15:25:53] \"\u001b[36mGET /static/photos/67.jpg HTTP/1.1\u001b[0m\" 304 -\n",
      "127.0.0.1 - - [24/Jun/2021 15:25:53] \"\u001b[36mGET /static/photos/04.jpg HTTP/1.1\u001b[0m\" 304 -\n",
      "127.0.0.1 - - [24/Jun/2021 15:25:53] \"\u001b[36mGET /static/photos/53.jpg HTTP/1.1\u001b[0m\" 304 -\n",
      "127.0.0.1 - - [24/Jun/2021 15:25:53] \"\u001b[36mGET /static/photos/44.jpg HTTP/1.1\u001b[0m\" 304 -\n",
      "127.0.0.1 - - [24/Jun/2021 15:25:53] \"\u001b[36mGET /static/photos/38.jpg HTTP/1.1\u001b[0m\" 304 -\n",
      "127.0.0.1 - - [24/Jun/2021 15:25:53] \"\u001b[36mGET /static/photos/25.jpg HTTP/1.1\u001b[0m\" 304 -\n",
      "127.0.0.1 - - [24/Jun/2021 15:25:53] \"\u001b[36mGET /static/photos/12.jpg HTTP/1.1\u001b[0m\" 304 -\n",
      "127.0.0.1 - - [24/Jun/2021 15:25:53] \"\u001b[36mGET /static/photos/17.jpg HTTP/1.1\u001b[0m\" 304 -\n",
      "127.0.0.1 - - [24/Jun/2021 15:25:53] \"\u001b[36mGET /static/photos/42.jpg HTTP/1.1\u001b[0m\" 304 -\n",
      "127.0.0.1 - - [24/Jun/2021 15:25:53] \"\u001b[36mGET /static/photos/03.jpg HTTP/1.1\u001b[0m\" 304 -\n",
      "127.0.0.1 - - [24/Jun/2021 15:25:53] \"\u001b[36mGET /static/photos/11.jpg HTTP/1.1\u001b[0m\" 304 -\n",
      "127.0.0.1 - - [24/Jun/2021 15:25:53] \"\u001b[36mGET /static/photos/47.jpg HTTP/1.1\u001b[0m\" 304 -\n",
      "127.0.0.1 - - [24/Jun/2021 15:25:53] \"\u001b[36mGET /static/photos/16.jpg HTTP/1.1\u001b[0m\" 304 -\n",
      "127.0.0.1 - - [24/Jun/2021 15:25:53] \"\u001b[36mGET /static/photos/46.jpg HTTP/1.1\u001b[0m\" 304 -\n",
      "127.0.0.1 - - [24/Jun/2021 15:25:53] \"\u001b[36mGET /static/photos/35.jpg HTTP/1.1\u001b[0m\" 304 -\n",
      "127.0.0.1 - - [24/Jun/2021 15:25:53] \"\u001b[36mGET /static/photos/19.jpg HTTP/1.1\u001b[0m\" 304 -\n",
      "127.0.0.1 - - [24/Jun/2021 15:25:53] \"\u001b[36mGET /static/photos/27.jpg HTTP/1.1\u001b[0m\" 304 -\n",
      "127.0.0.1 - - [24/Jun/2021 15:25:53] \"\u001b[36mGET /static/photos/14.jpg HTTP/1.1\u001b[0m\" 304 -\n",
      "127.0.0.1 - - [24/Jun/2021 15:25:53] \"\u001b[36mGET /static/photos/39.jpg HTTP/1.1\u001b[0m\" 304 -\n",
      "127.0.0.1 - - [24/Jun/2021 15:25:53] \"\u001b[36mGET /static/photos/32.jpg HTTP/1.1\u001b[0m\" 304 -\n",
      "127.0.0.1 - - [24/Jun/2021 15:25:53] \"\u001b[36mGET /static/photos/02.jpg HTTP/1.1\u001b[0m\" 304 -\n",
      "127.0.0.1 - - [24/Jun/2021 15:25:53] \"\u001b[36mGET /static/photos/07.jpg HTTP/1.1\u001b[0m\" 304 -\n",
      "127.0.0.1 - - [24/Jun/2021 15:25:53] \"\u001b[36mGET /static/photos/51.jpg HTTP/1.1\u001b[0m\" 304 -\n",
      "127.0.0.1 - - [24/Jun/2021 15:26:01] \"\u001b[36mGET /static/photos/30.jpg HTTP/1.1\u001b[0m\" 304 -\n",
      "127.0.0.1 - - [24/Jun/2021 15:26:01] \"\u001b[36mGET /static/photos/33.jpg HTTP/1.1\u001b[0m\" 304 -\n",
      "127.0.0.1 - - [24/Jun/2021 15:26:01] \"\u001b[36mGET /static/photos/31.jpg HTTP/1.1\u001b[0m\" 304 -\n",
      "127.0.0.1 - - [24/Jun/2021 15:26:01] \"\u001b[36mGET /static/photos/32.jpg HTTP/1.1\u001b[0m\" 304 -\n",
      "127.0.0.1 - - [24/Jun/2021 15:26:07] \"\u001b[36mGET /static/photos/40.jpg HTTP/1.1\u001b[0m\" 304 -\n",
      "127.0.0.1 - - [24/Jun/2021 15:26:07] \"\u001b[36mGET /static/photos/42.jpg HTTP/1.1\u001b[0m\" 304 -\n",
      "127.0.0.1 - - [24/Jun/2021 15:26:07] \"\u001b[36mGET /static/photos/43.jpg HTTP/1.1\u001b[0m\" 304 -\n",
      "127.0.0.1 - - [24/Jun/2021 15:26:14] \"\u001b[36mGET /static/photos/46.jpg HTTP/1.1\u001b[0m\" 304 -\n",
      "127.0.0.1 - - [24/Jun/2021 15:26:14] \"\u001b[36mGET /static/photos/45.jpg HTTP/1.1\u001b[0m\" 304 -\n"
     ]
    }
   ],
   "source": [
    "from flask import Flask, render_template\n",
    "\n",
    "app = Flask(__name__)\n",
    "\n",
    "@app.route('/')\n",
    "def index():\n",
    "    return render_template('index.html', photos=db)\n",
    "\n",
    "if __name__ == '__main__':\n",
    "    app.run()"
   ]
  },
  {
   "cell_type": "code",
   "execution_count": null,
   "metadata": {},
   "outputs": [],
   "source": []
  }
 ],
 "metadata": {
  "kernelspec": {
   "display_name": "Python 3",
   "language": "python",
   "name": "python3"
  },
  "language_info": {
   "codemirror_mode": {
    "name": "ipython",
    "version": 3
   },
   "file_extension": ".py",
   "mimetype": "text/x-python",
   "name": "python",
   "nbconvert_exporter": "python",
   "pygments_lexer": "ipython3",
   "version": "3.7.9"
  }
 },
 "nbformat": 4,
 "nbformat_minor": 4
}
